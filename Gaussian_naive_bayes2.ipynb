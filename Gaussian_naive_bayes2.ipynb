{
 "cells": [
  {
   "cell_type": "code",
   "execution_count": 245,
   "metadata": {},
   "outputs": [
    {
     "data": {
      "text/html": [
       "<div>\n",
       "<style scoped>\n",
       "    .dataframe tbody tr th:only-of-type {\n",
       "        vertical-align: middle;\n",
       "    }\n",
       "\n",
       "    .dataframe tbody tr th {\n",
       "        vertical-align: top;\n",
       "    }\n",
       "\n",
       "    .dataframe thead th {\n",
       "        text-align: right;\n",
       "    }\n",
       "</style>\n",
       "<table border=\"1\" class=\"dataframe\">\n",
       "  <thead>\n",
       "    <tr style=\"text-align: right;\">\n",
       "      <th></th>\n",
       "      <th>V1</th>\n",
       "      <th>V2</th>\n",
       "      <th>V3</th>\n",
       "      <th>V4</th>\n",
       "      <th>Class</th>\n",
       "    </tr>\n",
       "  </thead>\n",
       "  <tbody>\n",
       "    <tr>\n",
       "      <th>0</th>\n",
       "      <td>-2.882900</td>\n",
       "      <td>3.8964</td>\n",
       "      <td>-0.1888</td>\n",
       "      <td>-1.16720</td>\n",
       "      <td>2</td>\n",
       "    </tr>\n",
       "    <tr>\n",
       "      <th>1</th>\n",
       "      <td>-0.036127</td>\n",
       "      <td>1.5250</td>\n",
       "      <td>-1.4089</td>\n",
       "      <td>-0.76121</td>\n",
       "      <td>2</td>\n",
       "    </tr>\n",
       "    <tr>\n",
       "      <th>2</th>\n",
       "      <td>-1.710400</td>\n",
       "      <td>-4.7780</td>\n",
       "      <td>6.2109</td>\n",
       "      <td>0.39740</td>\n",
       "      <td>2</td>\n",
       "    </tr>\n",
       "    <tr>\n",
       "      <th>3</th>\n",
       "      <td>-3.820300</td>\n",
       "      <td>-13.0551</td>\n",
       "      <td>16.9583</td>\n",
       "      <td>-2.30520</td>\n",
       "      <td>2</td>\n",
       "    </tr>\n",
       "    <tr>\n",
       "      <th>4</th>\n",
       "      <td>-3.718100</td>\n",
       "      <td>-8.5089</td>\n",
       "      <td>12.3630</td>\n",
       "      <td>-0.95518</td>\n",
       "      <td>2</td>\n",
       "    </tr>\n",
       "  </tbody>\n",
       "</table>\n",
       "</div>"
      ],
      "text/plain": [
       "         V1       V2       V3       V4  Class\n",
       "0 -2.882900   3.8964  -0.1888 -1.16720      2\n",
       "1 -0.036127   1.5250  -1.4089 -0.76121      2\n",
       "2 -1.710400  -4.7780   6.2109  0.39740      2\n",
       "3 -3.820300 -13.0551  16.9583 -2.30520      2\n",
       "4 -3.718100  -8.5089  12.3630 -0.95518      2"
      ]
     },
     "execution_count": 245,
     "metadata": {},
     "output_type": "execute_result"
    }
   ],
   "source": [
    "import pandas as pd   ##loading the training data set\n",
    "import numpy as np\n",
    "import collections\n",
    "import math \n",
    "\n",
    "\n",
    "X = pd.read_csv('C:\\\\Users\\\\HP\\\\Downloads\\\\Train_bank.csv', delimiter = ',')\n",
    "X.head()\n",
    "\n"
   ]
  },
  {
   "cell_type": "code",
   "execution_count": 246,
   "metadata": {},
   "outputs": [
    {
     "data": {
      "text/plain": [
       "[0.438, 0.562]"
      ]
     },
     "execution_count": 246,
     "metadata": {},
     "output_type": "execute_result"
    }
   ],
   "source": [
    "\n",
    "PC=[]\n",
    "X1 = X.iloc[:,4]\n",
    "C = collections.Counter(X1)      # Number of examples in each class\n",
    "\n",
    "C = list(C.values())              \n",
    "\n",
    "\n",
    "\n",
    "PC.append(float(C[0]/(C[0]+C[1])))  # Prior prob of class 2,Consider index 0 as class 2\n",
    "PC.append(float(C[1]/(C[0]+C[1])))  # Prior prob of class 1,consider index 1 as class 1\n",
    "\n",
    "    \n",
    "X = np.array(X);\n",
    "\n",
    "\n",
    "N = len(X) ;  #no.of training examples\n",
    "M = 4;    #no of features\n",
    "\n",
    "PC"
   ]
  },
  {
   "cell_type": "code",
   "execution_count": 247,
   "metadata": {},
   "outputs": [
    {
     "data": {
      "text/plain": [
       "372"
      ]
     },
     "execution_count": 247,
     "metadata": {},
     "output_type": "execute_result"
    }
   ],
   "source": [
    "T = pd.read_csv('C:\\\\Users\\\\HP\\\\Downloads\\\\Test_bank.csv', delimiter = ','); ##Loading the test data\n",
    "T.head()\n",
    "\n",
    "n = len(T);  #no.of testing examples\n",
    "print(n)"
   ]
  },
  {
   "cell_type": "code",
   "execution_count": 248,
   "metadata": {},
   "outputs": [],
   "source": [
    "       \n",
    "T = np.asarray(T); #converting list to numpy arrays\n",
    "\n",
    "j=0;\n",
    "k=0;\n",
    "X0 = np.empty([C[0],4]);   #X0 for features of class 2\n",
    "X1 = np.empty([C[1],4]);   #X1 for features of class 1\n",
    "\n",
    "\n"
   ]
  },
  {
   "cell_type": "code",
   "execution_count": 249,
   "metadata": {},
   "outputs": [],
   "source": [
    "for i in range(0,N):\n",
    "    if X[i,4] == 2:\n",
    "        X0[j,:]=X[i,0:4]\n",
    "        j+=1\n",
    "    else:\n",
    "        X1[k,:] = X[i,0:4]\n",
    "        k+=1\n",
    "\n",
    "\n",
    "    \n",
    "\n",
    "\n",
    "M1 = np.empty([1,4]);\n",
    "M0 = np.empty([1,4]);  \n",
    "V1 = np.empty([1,4]);\n",
    "V0 = np.empty([1,4]);  \n",
    "\n",
    "for i in range(0,4):\n",
    "        M1[0,i] = np.mean(X1[:,i])  # array containing mean of every feature for class 1\n",
    "        M0[0,i] = np.mean(X0[:,i])  # array containing mean of every feature for class 2\n",
    "        V1[0,i] = np.var(X1[:,i])   # array containing variance of every feature for class 1\n",
    "        V0[0,i] = np.var(X0[:,i])   # array containing variance of every feature for class 2\n",
    "        \n",
    "\n",
    "       \n"
   ]
  },
  {
   "cell_type": "code",
   "execution_count": 250,
   "metadata": {},
   "outputs": [],
   "source": [
    "pfc = np.ones(2)\n",
    "Result_set=[]"
   ]
  },
  {
   "cell_type": "code",
   "execution_count": null,
   "metadata": {},
   "outputs": [],
   "source": []
  },
  {
   "cell_type": "code",
   "execution_count": 251,
   "metadata": {},
   "outputs": [
    {
     "data": {
      "text/plain": [
       "Counter({1: 211, 2: 161})"
      ]
     },
     "execution_count": 251,
     "metadata": {},
     "output_type": "execute_result"
    }
   ],
   "source": [
    "for i in range(0,372):    #Testing examples\n",
    "    product = 1 ;                        \n",
    "    for j in range(0, 4):\n",
    "        product = product * (1/(math.sqrt(2*3.14*V0[0,j])) * (math.exp(-0.5* pow((T[i,j] - M0[0,j]),2)/V0[0,j])))\n",
    "    pfc[0] = product  ## pfc - the conditonal probability for both classes\n",
    " \n",
    "    product = 1 ; \n",
    "    for j in range(0, 4):\n",
    "        product = product * (1/(math.sqrt(2*3.14*V1[0,j])) * (math.exp(-0.5* pow((T[i,j] - M1[0,j]),2)/V1[0,j]))) \n",
    "    pfc[1] = product\n",
    "\n",
    "\n",
    "    pcf = np.ones(2);  ## pcf - the posterior probability of both classes\n",
    "    total_prob = 0;\n",
    "\n",
    "    for i in range(0,2):\n",
    "        total_prob = total_prob + (pfc[i] * PC[i]);\n",
    "    \n",
    "    for i in range(0, 2):\n",
    "        pcf[i] = (pfc[i] * PC[i])/total_prob; ##Normalisation\n",
    "    prediction = int(pcf.argmax());  \n",
    "    Result_set.append(prediction)\n",
    "l = len(Result_set)    \n",
    "\n",
    "\n",
    "        \n",
    "for i in range(l):\n",
    "    if Result_set[i]==0:     #replacing 0 classes with 2\n",
    "        Result_set[i]= 2\n",
    "        \n",
    "collections.Counter(Result_set)        "
   ]
  },
  {
   "cell_type": "code",
   "execution_count": 252,
   "metadata": {},
   "outputs": [
    {
     "data": {
      "text/html": [
       "<div>\n",
       "<style scoped>\n",
       "    .dataframe tbody tr th:only-of-type {\n",
       "        vertical-align: middle;\n",
       "    }\n",
       "\n",
       "    .dataframe tbody tr th {\n",
       "        vertical-align: top;\n",
       "    }\n",
       "\n",
       "    .dataframe thead th {\n",
       "        text-align: right;\n",
       "    }\n",
       "</style>\n",
       "<table border=\"1\" class=\"dataframe\">\n",
       "  <thead>\n",
       "    <tr style=\"text-align: right;\">\n",
       "      <th>col_0</th>\n",
       "      <th>1.0</th>\n",
       "      <th>2.0</th>\n",
       "    </tr>\n",
       "    <tr>\n",
       "      <th>row_0</th>\n",
       "      <th></th>\n",
       "      <th></th>\n",
       "    </tr>\n",
       "  </thead>\n",
       "  <tbody>\n",
       "    <tr>\n",
       "      <th>1</th>\n",
       "      <td>177</td>\n",
       "      <td>34</td>\n",
       "    </tr>\n",
       "    <tr>\n",
       "      <th>2</th>\n",
       "      <td>23</td>\n",
       "      <td>138</td>\n",
       "    </tr>\n",
       "  </tbody>\n",
       "</table>\n",
       "</div>"
      ],
      "text/plain": [
       "col_0  1.0  2.0\n",
       "row_0          \n",
       "1      177   34\n",
       "2       23  138"
      ]
     },
     "execution_count": 252,
     "metadata": {},
     "output_type": "execute_result"
    }
   ],
   "source": [
    "\n",
    "\n",
    "y_pred = pd.Series(Result_set);    #predicted labels\n",
    "y_actual = pd.Series(list(T[:,4])) #actual labels\n",
    "\n",
    "\n",
    "confusion_matric = pd.crosstab(y_pred,y_actual);\n",
    "confusion_matric    #CONFUSION MATRIX"
   ]
  },
  {
   "cell_type": "code",
   "execution_count": 257,
   "metadata": {},
   "outputs": [],
   "source": [
    "#from confusion matrix\n",
    "True_positive = 177\n",
    "True_Negative = 138\n",
    "False_positive = 23\n",
    "False_negative = 34\n"
   ]
  },
  {
   "cell_type": "code",
   "execution_count": 258,
   "metadata": {},
   "outputs": [],
   "source": [
    "Accuracy = (True_positive+True_Negative)/(True_positive+True_Negative +False_positive+False_negative);"
   ]
  },
  {
   "cell_type": "code",
   "execution_count": 259,
   "metadata": {},
   "outputs": [
    {
     "data": {
      "text/plain": [
       "0.8467741935483871"
      ]
     },
     "execution_count": 259,
     "metadata": {},
     "output_type": "execute_result"
    }
   ],
   "source": [
    "Accuracy"
   ]
  },
  {
   "cell_type": "code",
   "execution_count": null,
   "metadata": {},
   "outputs": [],
   "source": []
  }
 ],
 "metadata": {
  "kernelspec": {
   "display_name": "Python 3",
   "language": "python",
   "name": "python3"
  },
  "language_info": {
   "codemirror_mode": {
    "name": "ipython",
    "version": 3
   },
   "file_extension": ".py",
   "mimetype": "text/x-python",
   "name": "python",
   "nbconvert_exporter": "python",
   "pygments_lexer": "ipython3",
   "version": "3.6.5"
  }
 },
 "nbformat": 4,
 "nbformat_minor": 2
}
