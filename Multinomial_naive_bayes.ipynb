{
 "cells": [
  {
   "cell_type": "code",
   "execution_count": 35,
   "metadata": {},
   "outputs": [
    {
     "data": {
      "text/plain": [
       "242584"
      ]
     },
     "execution_count": 35,
     "metadata": {},
     "output_type": "execute_result"
    }
   ],
   "source": [
    "import os\n",
    "import collections\n",
    "import numpy as np\n",
    "import math\n",
    "import matplotlib.pyplot as plt\n",
    "import seaborn as sn\n",
    "\n",
    "\n",
    "prior_prob={}\n",
    "\n",
    "cond_prob0 = {}        #0 denotes ham\n",
    "cond_prob1=  {}        #1 denotes spam\n",
    "word_freq0 = {}\n",
    "word_freq1 = {}\n",
    "\n",
    "\n",
    "i =0\n",
    "j =0\n",
    "for docs in os.listdir('ham-train'):\n",
    "    doc = open('ham-train' + '//' + docs,errors = 'ignore')\n",
    "    word_freq0.update(collections.Counter(doc.read().split(\" \")))   #dictionary with frequncy of each word in ham train         \n",
    "   \n",
    "    \n",
    "    i+=1\n",
    "    \n",
    "    \n",
    "for docs in os.listdir('spam-train'):\n",
    "    doc = open('spam-train' + '//' + docs,errors = 'ignore')\n",
    "    word_freq1.update(collections.Counter(doc.read().split(\" \")))  #dictionary with frequncy of each word in spam - train      \n",
    "                                     \n",
    "   \n",
    "    j+=1   \n",
    "    \n",
    "        \n",
    "data_size = len(word_freq0)+len(word_freq1)   \n",
    "data_size"
   ]
  },
  {
   "cell_type": "code",
   "execution_count": null,
   "metadata": {},
   "outputs": [],
   "source": []
  },
  {
   "cell_type": "code",
   "execution_count": 36,
   "metadata": {},
   "outputs": [
    {
     "name": "stdout",
     "output_type": "stream",
     "text": [
      "{'ham': 0.5520148863173809, 'spam': 0.44798511368261906}\n"
     ]
    }
   ],
   "source": [
    "prior_prob['ham'] = i/(i+j)          \n",
    "prior_prob['spam'] = j/(j+i)\n",
    "\n",
    "print(prior_prob)             #prior probs for ham and spam"
   ]
  },
  {
   "cell_type": "code",
   "execution_count": 37,
   "metadata": {},
   "outputs": [
    {
     "name": "stdout",
     "output_type": "stream",
     "text": [
      "110865 131719\n"
     ]
    }
   ],
   "source": [
    "for word in word_freq0.items():\n",
    "    cond_prob0[word[0]] = (word[1]+1)/(sum(word_freq0.values())+data_size) #condprob for ham\n",
    "\n",
    "\n",
    "\n",
    "for word in word_freq1.items():\n",
    "    cond_prob1[word[0]] = (word[1]+1)/(sum(word_freq1.values())+data_size) #condprob for spam\n",
    "print(len(cond_prob1),len(cond_prob0))    \n",
    "    \n",
    "true_positive = 0\n",
    "false_positive = 0\n",
    "true_negative = 0\n",
    "false_negative = 0\n",
    "\n"
   ]
  },
  {
   "cell_type": "code",
   "execution_count": 38,
   "metadata": {},
   "outputs": [],
   "source": [
    "for docs in os.listdir('spam'):                  #testing for spam\n",
    "    doc = open('spam' + '//' + docs,errors = 'ignore')\n",
    "    word_freqT1 = collections.Counter(doc.read().split(\" \"))\n",
    "    spam_score = 0\n",
    "    ham_score = 0\n",
    "    spam_score += (np.log(prior_prob['spam']))\n",
    "    ham_score += (np.log(prior_prob['ham']))\n",
    "    \n",
    "    \n",
    "    for word in word_freqT1.items():\n",
    "        if (word[0] in cond_prob0) and (word[0] in cond_prob1):\n",
    "            \n",
    "            spam_score += (np.log(cond_prob1[word[0]]))\n",
    "            ham_score  += (np.log(cond_prob0[word[0]]))\n",
    "            \n",
    "        elif (word[0] in cond_prob0) and (word[0] not in cond_prob1):\n",
    "            ham_score  += abs(np.log(cond_prob0[word[0]]))\n",
    "            \n",
    "        elif (word[0] in cond_prob1) and (word[0] not in cond_prob0):\n",
    "            spam_score += abs(np.log(cond_prob1[word[0]]))\n",
    "            \n",
    "            \n",
    "            \n",
    "           \n",
    "    if spam_score>ham_score:\n",
    "        true_positive  +=1   \n",
    "    else:\n",
    "        false_negative+=1\n",
    "        \n",
    "        \n",
    "        \n",
    "       \n"
   ]
  },
  {
   "cell_type": "code",
   "execution_count": null,
   "metadata": {},
   "outputs": [],
   "source": []
  },
  {
   "cell_type": "markdown",
   "metadata": {},
   "source": []
  },
  {
   "cell_type": "markdown",
   "metadata": {},
   "source": [
    "\n"
   ]
  },
  {
   "cell_type": "markdown",
   "metadata": {},
   "source": []
  },
  {
   "cell_type": "code",
   "execution_count": 39,
   "metadata": {},
   "outputs": [],
   "source": [
    "for docs in os.listdir('ham'):            #testing for ham\n",
    "    doc = open('ham' + '//' + docs,errors = 'ignore')\n",
    "    word_freqT0 = collections.Counter(doc.read().split(\" \"))\n",
    "    spam_score = 0\n",
    "    ham_score = 0\n",
    "    spam_score += (np.log(prior_prob['spam']))\n",
    "    ham_score += (np.log(prior_prob['ham']))\n",
    "    \n",
    "    \n",
    "    for word in word_freqT0.items():\n",
    "        if (word[0] in cond_prob0) and (word[0] in cond_prob1):\n",
    "            spam_score +=( np.log(cond_prob1[word[0]])*word[1])\n",
    "            ham_score += (np.log(cond_prob0[word[0]])*word[1])\n",
    "        elif (word[0] in cond_prob0) and (word[0] not in cond_prob1):\n",
    "            ham_score  += abs(np.log(cond_prob0[word[0]]))\n",
    "        elif (word[0] in cond_prob1) and (word[0] not in cond_prob0):\n",
    "            spam_score += abs(np.log(cond_prob1[word[0]]))    \n",
    "            \n",
    "            \n",
    "       \n",
    "    if spam_score>ham_score:\n",
    "        false_positive +=1\n",
    "    else:\n",
    "        true_negative +=1   \n",
    "        "
   ]
  },
  {
   "cell_type": "markdown",
   "metadata": {},
   "source": []
  },
  {
   "cell_type": "markdown",
   "metadata": {},
   "source": [
    "\n"
   ]
  },
  {
   "cell_type": "markdown",
   "metadata": {},
   "source": []
  },
  {
   "cell_type": "code",
   "execution_count": 40,
   "metadata": {},
   "outputs": [
    {
     "data": {
      "text/plain": [
       "<matplotlib.axes._subplots.AxesSubplot at 0x1ff53d4f438>"
      ]
     },
     "execution_count": 40,
     "metadata": {},
     "output_type": "execute_result"
    },
    {
     "data": {
      "image/png": "[encoded data removed]",
      "text/plain": [
       "<Figure size 432x288 with 2 Axes>"
      ]
     },
     "metadata": {},
     "output_type": "display_data"
    }
   ],
   "source": [
    "cf = [[true_negative,false_negative],[false_positive,true_positive]]\n",
    "sn.heatmap(cf,annot = True,fmt = \"d\") #formatting confusion matrix to integers type"
   ]
  },
  {
   "cell_type": "code",
   "execution_count": 41,
   "metadata": {},
   "outputs": [
    {
     "name": "stdout",
     "output_type": "stream",
     "text": [
      "94.47255012179127\n"
     ]
    }
   ],
   "source": [
    "accuracy = (true_negative+true_positive)/(true_positive+true_negative+false_positive+false_negative)  \n",
    "print((accuracy*100) )"
   ]
  },
  {
   "cell_type": "code",
   "execution_count": null,
   "metadata": {},
   "outputs": [],
   "source": [
    "\n",
    "\n"
   ]
  },
  {
   "cell_type": "code",
   "execution_count": null,
   "metadata": {},
   "outputs": [],
   "source": []
  },
  {
   "cell_type": "code",
   "execution_count": null,
   "metadata": {},
   "outputs": [],
   "source": []
  },
  {
   "cell_type": "code",
   "execution_count": null,
   "metadata": {},
   "outputs": [],
   "source": []
  },
  {
   "cell_type": "code",
   "execution_count": null,
   "metadata": {},
   "outputs": [],
   "source": []
  }
 ],
 "metadata": {
  "kernelspec": {
   "display_name": "Python 3",
   "language": "python",
   "name": "python3"
  },
  "language_info": {
   "codemirror_mode": {
    "name": "ipython",
    "version": 3
   },
   "file_extension": ".py",
   "mimetype": "text/x-python",
   "name": "python",
   "nbconvert_exporter": "python",
   "pygments_lexer": "ipython3",
   "version": "3.6.5"
  }
 },
 "nbformat": 4,
 "nbformat_minor": 2
}
