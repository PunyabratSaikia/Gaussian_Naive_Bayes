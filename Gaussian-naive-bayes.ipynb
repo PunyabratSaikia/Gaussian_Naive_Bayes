{
 "cells": [
  {
   "cell_type": "code",
   "execution_count": 157,
   "metadata": {},
   "outputs": [
    {
     "data": {
      "text/html": [
       "<div>\n",
       "<style scoped>\n",
       "    .dataframe tbody tr th:only-of-type {\n",
       "        vertical-align: middle;\n",
       "    }\n",
       "\n",
       "    .dataframe tbody tr th {\n",
       "        vertical-align: top;\n",
       "    }\n",
       "\n",
       "    .dataframe thead th {\n",
       "        text-align: right;\n",
       "    }\n",
       "</style>\n",
       "<table border=\"1\" class=\"dataframe\">\n",
       "  <thead>\n",
       "    <tr style=\"text-align: right;\">\n",
       "      <th></th>\n",
       "      <th>feature_1</th>\n",
       "      <th>feature_2</th>\n",
       "      <th>feature_3</th>\n",
       "      <th>feature_4</th>\n",
       "      <th>feature_5</th>\n",
       "      <th>feature_6</th>\n",
       "      <th>feature_7</th>\n",
       "      <th>feature_8</th>\n",
       "      <th>category</th>\n",
       "    </tr>\n",
       "  </thead>\n",
       "  <tbody>\n",
       "    <tr>\n",
       "      <th>0</th>\n",
       "      <td>2.0</td>\n",
       "      <td>101.0</td>\n",
       "      <td>58.0</td>\n",
       "      <td>35.0</td>\n",
       "      <td>90.0</td>\n",
       "      <td>21.8</td>\n",
       "      <td>0.155</td>\n",
       "      <td>22.0</td>\n",
       "      <td>0.0</td>\n",
       "    </tr>\n",
       "    <tr>\n",
       "      <th>1</th>\n",
       "      <td>4.0</td>\n",
       "      <td>110.0</td>\n",
       "      <td>66.0</td>\n",
       "      <td>0.0</td>\n",
       "      <td>0.0</td>\n",
       "      <td>31.9</td>\n",
       "      <td>0.471</td>\n",
       "      <td>29.0</td>\n",
       "      <td>0.0</td>\n",
       "    </tr>\n",
       "    <tr>\n",
       "      <th>2</th>\n",
       "      <td>1.0</td>\n",
       "      <td>102.0</td>\n",
       "      <td>74.0</td>\n",
       "      <td>0.0</td>\n",
       "      <td>0.0</td>\n",
       "      <td>39.5</td>\n",
       "      <td>0.293</td>\n",
       "      <td>42.0</td>\n",
       "      <td>1.0</td>\n",
       "    </tr>\n",
       "    <tr>\n",
       "      <th>3</th>\n",
       "      <td>6.0</td>\n",
       "      <td>195.0</td>\n",
       "      <td>70.0</td>\n",
       "      <td>0.0</td>\n",
       "      <td>0.0</td>\n",
       "      <td>30.9</td>\n",
       "      <td>0.328</td>\n",
       "      <td>31.0</td>\n",
       "      <td>1.0</td>\n",
       "    </tr>\n",
       "    <tr>\n",
       "      <th>4</th>\n",
       "      <td>3.0</td>\n",
       "      <td>123.0</td>\n",
       "      <td>100.0</td>\n",
       "      <td>35.0</td>\n",
       "      <td>240.0</td>\n",
       "      <td>57.3</td>\n",
       "      <td>0.880</td>\n",
       "      <td>22.0</td>\n",
       "      <td>0.0</td>\n",
       "    </tr>\n",
       "  </tbody>\n",
       "</table>\n",
       "</div>"
      ],
      "text/plain": [
       "   feature_1  feature_2  feature_3  feature_4  feature_5  feature_6  \\\n",
       "0        2.0      101.0       58.0       35.0       90.0       21.8   \n",
       "1        4.0      110.0       66.0        0.0        0.0       31.9   \n",
       "2        1.0      102.0       74.0        0.0        0.0       39.5   \n",
       "3        6.0      195.0       70.0        0.0        0.0       30.9   \n",
       "4        3.0      123.0      100.0       35.0      240.0       57.3   \n",
       "\n",
       "   feature_7  feature_8  category  \n",
       "0      0.155       22.0       0.0  \n",
       "1      0.471       29.0       0.0  \n",
       "2      0.293       42.0       1.0  \n",
       "3      0.328       31.0       1.0  \n",
       "4      0.880       22.0       0.0  "
      ]
     },
     "execution_count": 157,
     "metadata": {},
     "output_type": "execute_result"
    }
   ],
   "source": [
    "import pandas as pd   ##loading the training data set\n",
    "import numpy as np\n",
    "import collections\n",
    "import math \n",
    "\n",
    "\n",
    "X = pd.read_csv('C:\\\\Users\\\\HP\\\\Desktop\\\\machine learning\\\\Naive-Bayes-master\\\\Naive-Bayes-master\\\\trainset.csv', delimiter = ',')\n",
    "X.head()\n",
    "\n"
   ]
  },
  {
   "cell_type": "code",
   "execution_count": 158,
   "metadata": {},
   "outputs": [],
   "source": [
    "\n",
    "PC=[]\n",
    "X1 = X.iloc[:,8]\n",
    "C = collections.Counter(X1)      # Number of examples in each class\n",
    "C = list(C.values())\n",
    "\n",
    "PC.append(float(C[0]/(C[0]+C[1])))  # Prior prob of class 0\n",
    "PC.append(float(C[1]/(C[0]+C[1])))  # Prior prob of class 1\n",
    "\n",
    "    \n",
    "\n",
    "\n",
    "N = 500;  #no.of training examples\n",
    "M = 8;    #no of features\n",
    "\n",
    "\n"
   ]
  },
  {
   "cell_type": "code",
   "execution_count": 159,
   "metadata": {},
   "outputs": [],
   "source": [
    "T = pd.read_csv('C:\\\\Users\\\\HP\\\\Documents\\\\Testdata.csv', delimiter = ','); ##Loading the test data\n",
    "T.head()\n",
    "\n",
    "n = 76;  #no.of testing examples\n",
    "M = 8;    #no of features"
   ]
  },
  {
   "cell_type": "code",
   "execution_count": 160,
   "metadata": {},
   "outputs": [],
   "source": [
    "X = np.asarray(X);        #converting list to numpy arrays\n",
    "T = np.asarray(T);\n",
    "\n",
    "j=0;\n",
    "k=0;\n",
    "X0 = np.empty([324,8]);   #features of class 0\n",
    "X1 = np.empty([176,8]);   #features of class 1\n",
    "for i in range(0,500):\n",
    "    if X[i,8] == 0:\n",
    "        X0[j,:] = X[i,0:8]\n",
    "        j+=1\n",
    "    else:\n",
    "        X1[k,:] = X[i,0:8]\n",
    "        k+=1\n",
    "\n",
    "X1 = np.delete(X1,(175),axis = 0)    \n",
    "\n",
    "\n",
    "M1 = np.empty([1,8]);\n",
    "M0 = np.empty([1,8]);  \n",
    "V1 = np.empty([1,8]);\n",
    "V0 = np.empty([1,8]);  \n",
    "\n",
    "for i in range(0,8):\n",
    "        M1[0,i] = np.mean(X1[:,i])  # array containing mean of every feature for class 1\n",
    "        M0[0,i] = np.mean(X0[:,i])  # array containing mean of every feature for class 0\n",
    "        V1[0,i] = np.var(X1[:,i])   # array containing variance of every feature for class 1\n",
    "        V0[0,i] = np.var(X0[:,i])   # array containing variance of every feature for class 0\n",
    "        \n",
    "\n",
    "       \n"
   ]
  },
  {
   "cell_type": "code",
   "execution_count": null,
   "metadata": {},
   "outputs": [],
   "source": []
  },
  {
   "cell_type": "code",
   "execution_count": null,
   "metadata": {},
   "outputs": [],
   "source": []
  },
  {
   "cell_type": "markdown",
   "metadata": {},
   "source": []
  },
  {
   "cell_type": "code",
   "execution_count": 161,
   "metadata": {},
   "outputs": [],
   "source": [
    "for i in range(0,75):\n",
    "    product = 1 ;                        \n",
    "    for j in range(0, 8):\n",
    "        product = product * (1/(math.sqrt(2*3.14*V0[0,j])) * (math.exp(-0.5* pow((T[i,j] - M0[0,j]),2)/V0[0,j])))\n",
    "    pfc[0] = product  ## pfc contains the conditonal probability for both classes\n",
    " \n",
    "    product = 1 ; \n",
    "    for j in range(0, 8):\n",
    "        product = product * (1/(math.sqrt(2*3.14*V1[0,j])) * (math.exp(-0.5* pow((T[i,j] - M1[0,j]),2)/V1[0,j]))) \n",
    "    pfc[1] = product\n",
    "\n",
    "\n",
    "    pcf = np.ones(2);  ## pcf contains the posterior probability of both classes\n",
    "    total_prob = 0;\n",
    "\n",
    "    for i in range(0,2):\n",
    "        total_prob = total_prob + (pfc[i] * PC[i]);\n",
    "    \n",
    "    for i in range(0, 2):\n",
    "        pcf[i] = (pfc[i] * PC[i])/total_prob; ##Normalisation\n",
    "    prediction = int(pcf.argmax());  \n",
    "    Result_set.append(prediction);"
   ]
  },
  {
   "cell_type": "code",
   "execution_count": 162,
   "metadata": {},
   "outputs": [
    {
     "data": {
      "text/html": [
       "<div>\n",
       "<style scoped>\n",
       "    .dataframe tbody tr th:only-of-type {\n",
       "        vertical-align: middle;\n",
       "    }\n",
       "\n",
       "    .dataframe tbody tr th {\n",
       "        vertical-align: top;\n",
       "    }\n",
       "\n",
       "    .dataframe thead th {\n",
       "        text-align: right;\n",
       "    }\n",
       "</style>\n",
       "<table border=\"1\" class=\"dataframe\">\n",
       "  <thead>\n",
       "    <tr style=\"text-align: right;\">\n",
       "      <th>col_0</th>\n",
       "      <th>0.0</th>\n",
       "      <th>1.0</th>\n",
       "    </tr>\n",
       "    <tr>\n",
       "      <th>row_0</th>\n",
       "      <th></th>\n",
       "      <th></th>\n",
       "    </tr>\n",
       "  </thead>\n",
       "  <tbody>\n",
       "    <tr>\n",
       "      <th>0</th>\n",
       "      <td>46</td>\n",
       "      <td>11</td>\n",
       "    </tr>\n",
       "    <tr>\n",
       "      <th>1</th>\n",
       "      <td>8</td>\n",
       "      <td>11</td>\n",
       "    </tr>\n",
       "  </tbody>\n",
       "</table>\n",
       "</div>"
      ],
      "text/plain": [
       "col_0  0.0  1.0\n",
       "row_0          \n",
       "0       46   11\n",
       "1        8   11"
      ]
     },
     "execution_count": 162,
     "metadata": {},
     "output_type": "execute_result"
    }
   ],
   "source": [
    "\n",
    "\n",
    "y_pred = pd.Series(Result_set);    #predicted labels\n",
    "y_actual = pd.Series(list(T[:,8])) #actual labels\n",
    "\n",
    "\n",
    "confusion_matric = pd.crosstab(y_pred,y_actual);\n",
    "confusion_matric    #CONFUSION MATRIX"
   ]
  },
  {
   "cell_type": "code",
   "execution_count": 165,
   "metadata": {},
   "outputs": [
    {
     "data": {
      "text/plain": [
       "0.75"
      ]
     },
     "execution_count": 165,
     "metadata": {},
     "output_type": "execute_result"
    }
   ],
   "source": [
    "Accuracy = (46+11)/(46+8+11+11);\n",
    "Accuracy"
   ]
  },
  {
   "cell_type": "code",
   "execution_count": null,
   "metadata": {},
   "outputs": [],
   "source": []
  },
  {
   "cell_type": "code",
   "execution_count": null,
   "metadata": {},
   "outputs": [],
   "source": []
  }
 ],
 "metadata": {
  "kernelspec": {
   "display_name": "Python 3",
   "language": "python",
   "name": "python3"
  },
  "language_info": {
   "codemirror_mode": {
    "name": "ipython",
    "version": 3
   },
   "file_extension": ".py",
   "mimetype": "text/x-python",
   "name": "python",
   "nbconvert_exporter": "python",
   "pygments_lexer": "ipython3",
   "version": "3.6.5"
  }
 },
 "nbformat": 4,
 "nbformat_minor": 2
}
